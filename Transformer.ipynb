{
  "nbformat": 4,
  "nbformat_minor": 0,
  "metadata": {
    "colab": {
      "provenance": [],
      "include_colab_link": true
    },
    "kernelspec": {
      "name": "python3",
      "display_name": "Python 3"
    }
  },
  "cells": [
    {
      "cell_type": "markdown",
      "metadata": {
        "id": "view-in-github",
        "colab_type": "text"
      },
      "source": [
        "<a href=\"https://colab.research.google.com/github/guoshengjun/myproject/blob/main/Transformer.ipynb\" target=\"_parent\"><img src=\"https://colab.research.google.com/assets/colab-badge.svg\" alt=\"Open In Colab\"/></a>"
      ]
    },
    {
      "cell_type": "code",
      "metadata": {
        "id": "VIIAGxzT8h_t",
        "colab": {
          "base_uri": "https://localhost:8080/"
        },
        "outputId": "0fc7d965-3a01-4b58-b51d-d533dcfd8b4f"
      },
      "source": [
        "!pip install ipdb\n",
        "import torch\n",
        "from torch import nn\n",
        "from torch import optim\n",
        "from torch.utils import data as Data\n",
        "import numpy as np\n",
        "import ipdb"
      ],
      "execution_count": null,
      "outputs": [
        {
          "output_type": "stream",
          "name": "stdout",
          "text": [
            "Requirement already satisfied: ipdb in /usr/local/lib/python3.10/dist-packages (0.13.13)\n",
            "Requirement already satisfied: ipython>=7.31.1 in /usr/local/lib/python3.10/dist-packages (from ipdb) (7.34.0)\n",
            "Requirement already satisfied: tomli in /usr/local/lib/python3.10/dist-packages (from ipdb) (2.0.1)\n",
            "Requirement already satisfied: decorator in /usr/local/lib/python3.10/dist-packages (from ipdb) (4.4.2)\n",
            "Requirement already satisfied: setuptools>=18.5 in /usr/local/lib/python3.10/dist-packages (from ipython>=7.31.1->ipdb) (67.7.2)\n",
            "Requirement already satisfied: jedi>=0.16 in /usr/local/lib/python3.10/dist-packages (from ipython>=7.31.1->ipdb) (0.18.2)\n",
            "Requirement already satisfied: pickleshare in /usr/local/lib/python3.10/dist-packages (from ipython>=7.31.1->ipdb) (0.7.5)\n",
            "Requirement already satisfied: traitlets>=4.2 in /usr/local/lib/python3.10/dist-packages (from ipython>=7.31.1->ipdb) (5.7.1)\n",
            "Requirement already satisfied: prompt-toolkit!=3.0.0,!=3.0.1,<3.1.0,>=2.0.0 in /usr/local/lib/python3.10/dist-packages (from ipython>=7.31.1->ipdb) (3.0.38)\n",
            "Requirement already satisfied: pygments in /usr/local/lib/python3.10/dist-packages (from ipython>=7.31.1->ipdb) (2.14.0)\n",
            "Requirement already satisfied: backcall in /usr/local/lib/python3.10/dist-packages (from ipython>=7.31.1->ipdb) (0.2.0)\n",
            "Requirement already satisfied: matplotlib-inline in /usr/local/lib/python3.10/dist-packages (from ipython>=7.31.1->ipdb) (0.1.6)\n",
            "Requirement already satisfied: pexpect>4.3 in /usr/local/lib/python3.10/dist-packages (from ipython>=7.31.1->ipdb) (4.8.0)\n",
            "Requirement already satisfied: parso<0.9.0,>=0.8.0 in /usr/local/lib/python3.10/dist-packages (from jedi>=0.16->ipython>=7.31.1->ipdb) (0.8.3)\n",
            "Requirement already satisfied: ptyprocess>=0.5 in /usr/local/lib/python3.10/dist-packages (from pexpect>4.3->ipython>=7.31.1->ipdb) (0.7.0)\n",
            "Requirement already satisfied: wcwidth in /usr/local/lib/python3.10/dist-packages (from prompt-toolkit!=3.0.0,!=3.0.1,<3.1.0,>=2.0.0->ipython>=7.31.1->ipdb) (0.2.6)\n"
          ]
        }
      ]
    },
    {
      "cell_type": "code",
      "metadata": {
        "id": "SSMxTYJzWhXH"
      },
      "source": [
        "d_model = 6 # embedding size\n",
        "d_ff = 12 # feedforward nerual network  dimension\n",
        "d_k = d_v = 3 # dimension of k(same as q) and v\n",
        "n_heads = 2 # number of heads in multihead attention\n",
        "p_drop = 0.1 # propability of dropout\n",
        "device = torch.device('cuda' if torch.cuda.is_available() else 'cpu')"
      ],
      "execution_count": null,
      "outputs": []
    },
    {
      "cell_type": "code",
      "metadata": {
        "id": "1Ls7oA86xe2V"
      },
      "source": [
        "source_vocab = {'E' : 0, '我' : 1, '吃' : 2, '肉' : 3}\n",
        "target_vocab = {'E' : 0, 'I' : 1, 'eat' : 2, 'meat' : 3, 'S' : 4}\n",
        "\n",
        "encoder_input = torch.LongTensor([[1,2,3,0]]).to(device) # 我 吃 肉 E, E代表结束词\n",
        "decoder_input = torch.LongTensor([[4,1,2,3]]).to(device) # S I eat meat, S代表开始词, 并右移一位，用于并行训练\n",
        "target = torch.LongTensor([[1,2,3,0]]).to(device) # I eat meat E, 翻译目标"
      ],
      "execution_count": null,
      "outputs": []
    },
    {
      "cell_type": "code",
      "metadata": {
        "id": "TgvM4Rx1LF0A"
      },
      "source": [
        "def get_attn_pad_mask(seq_q, seq_k): # 本质是结尾E做注意力遮盖，返回 1*4*4，最后一列为True\n",
        "  batch, len_q = seq_q.size() # 1, 4\n",
        "  batch, len_k = seq_k.size() # 1, 4\n",
        "  pad_attn_mask = seq_k.data.eq(0).unsqueeze(1) # 为0则为true，变为f,f,f,true，意思是把0这个结尾标志为true\n",
        "  return pad_attn_mask.expand(batch, len_q, len_k) # 扩展为1*4*4，最后一列为true，表示抹掉结尾对应的注意力\n",
        "\n",
        "def get_attn_subsequent_mask(seq): # decoder的自我顺序注意力遮盖，右上三角形区为true的遮盖\n",
        "  attn_shape = [seq.size(0), seq.size(1), seq.size(1)]\n",
        "  subsequent_mask = np.triu(np.ones(attn_shape), k=1)\n",
        "  subsequent_mask = torch.from_numpy(subsequent_mask)\n",
        "  return subsequent_mask"
      ],
      "execution_count": 1,
      "outputs": []
    },
    {
      "cell_type": "code",
      "metadata": {
        "id": "aa1pO0L4Ji9V"
      },
      "source": [
        "class ScaledDotProductAttention(nn.Module):\n",
        "  def __init__(self):\n",
        "    super(ScaledDotProductAttention, self).__init__()\n",
        "\n",
        "  def forward(self, Q, K, V, attn_mask):\n",
        "    # Q 1*2*4*3  乘以 K的倒置 1*2*3*4 得到 score 1*2*4*4 4*4表示4个词和词间的注意力矩阵\n",
        "    scores = torch.matmul(Q, K.transpose(-1, -2)) / np.sqrt(d_k)\n",
        "    scores.masked_fill_(attn_mask, -1e9) # 遮盖区的值设为近0，表示E结尾 or decoder的自我顺序遮盖，注意力丢弃\n",
        "\n",
        "    attn = nn.Softmax(dim=-1)(scores) # softmax后，遮盖区变为0\n",
        "    prob = torch.matmul(attn, V) # 4*4 乘以 V 4*3 变为 4*3，本质上prob的形状==V，乘积意义是将V带上了注意力信息\n",
        "    return prob"
      ],
      "execution_count": null,
      "outputs": []
    },
    {
      "cell_type": "code",
      "metadata": {
        "id": "48HS30HtKjLm"
      },
      "source": [
        "class MultiHeadAttention(nn.Module):\n",
        "  def __init__(self):\n",
        "    super(MultiHeadAttention, self).__init__()\n",
        "    self.n_heads = n_heads\n",
        "    self.W_Q = nn.Linear(d_model, d_k * n_heads, bias=False)\n",
        "    self.W_K = nn.Linear(d_model, d_k * n_heads, bias=False)\n",
        "    self.W_V = nn.Linear(d_model, d_v * n_heads, bias=False)\n",
        "    self.fc = nn.Linear(d_v * n_heads, d_model, bias=False)\n",
        "    self.layer_norm = nn.LayerNorm(d_model)\n",
        "\n",
        "  def forward(self, input_Q, input_K, input_V, attn_mask):\n",
        "    # input_Q 1*4*6 每批1句 * 每句4个词 * 每词6长度编码\n",
        "    residual, batch = input_Q, input_Q.size(0)\n",
        "\n",
        "    Q = self.W_Q(input_Q) # 乘以 W(6*6) 变为 1*4*6\n",
        "    Q = Q.view(batch, -1, n_heads, d_k).transpose(1, 2) # 切开为2个Head 变为 1*2*4*3 1批 2个Head 4词 3编码\n",
        "    K = self.W_K(input_K).view(batch, -1, n_heads, d_k).transpose(1, 2)\n",
        "    V = self.W_V(input_V).view(batch, -1, n_heads, d_v).transpose(1, 2)\n",
        "\n",
        "    attn_mask = attn_mask.unsqueeze(1).repeat(1, n_heads, 1, 1) # 1*2*4*4 2个Head的4*4，最后一列为true\n",
        "\n",
        "    prob = ScaledDotProductAttention()(Q, K, V, attn_mask) #返回1*2*4*3 2个头，4*3为带上关注关系的4词\n",
        "\n",
        "    # 把2头重新拼接起来，变为 1*4*6\n",
        "    prob = prob.transpose(1, 2).contiguous()\n",
        "    prob = prob.view(batch, -1, n_heads * d_v).contiguous()\n",
        "\n",
        "    output = self.fc(prob)\n",
        "    return self.layer_norm(residual + prob) # return 1*4*6\n"
      ],
      "execution_count": null,
      "outputs": []
    },
    {
      "cell_type": "code",
      "metadata": {
        "id": "68Kz08Y6QdFf"
      },
      "source": [
        "class Encoder(nn.Module):\n",
        "  def __init__(self):\n",
        "    super(Encoder, self).__init__()\n",
        "    self.source_embedding = nn.Embedding(len(source_vocab), d_model)\n",
        "    self.attention = MultiHeadAttention()\n",
        "\n",
        "  def forward(self, encoder_input): # input 1 * 4 4个单词的编码\n",
        "    embedded = self.source_embedding(encoder_input) # 1 * 4 * 6 将每个单词的整数字编码扩展到6个浮点数编码\n",
        "    mask = get_attn_pad_mask(encoder_input, encoder_input) # 1 * 4 * 4的矩阵，最后一列为true，表示忽略结尾词的注意力机制\n",
        "    encoder_output = self.attention(embedded, embedded, embedded, mask) # 1*4*6，带上关注力的4个词矩阵\n",
        "    return encoder_output\n",
        "\n",
        "class Decoder(nn.Module):\n",
        "\n",
        "  def __init__(self):\n",
        "    super(Decoder, self).__init__()\n",
        "    self.target_embedding = nn.Embedding(len(target_vocab), d_model)\n",
        "    self.attention = MultiHeadAttention()\n",
        "  # 三入参形状分别为 1*4, 1*4, 1*4*6，前两者未被embedding\n",
        "  def forward(self, decoder_input, encoder_input, encoder_output):\n",
        "    decoder_embedded = self.target_embedding(decoder_input) # 编码为1*4*6\n",
        "\n",
        "    decoder_self_attn_mask = get_attn_pad_mask(decoder_input, decoder_input) # 1*4*4 全为false，表示没有结尾词\n",
        "    decoder_subsequent_mask = get_attn_subsequent_mask(decoder_input) # 1*4*4 右上三角区为1，其余为0\n",
        "    decoder_self_mask = torch.gt(decoder_self_attn_mask + decoder_subsequent_mask, 0) #1*4*4 右上三角区为true，其余为false\n",
        "    decoder_output = self.attention(decoder_embedded, decoder_embedded, decoder_embedded, decoder_self_mask) # 1*4*6 带上注意力的4词矩阵\n",
        "\n",
        "    decoder_encoder_attn_mask = get_attn_pad_mask(decoder_input, encoder_input) #1*4*4 最后一列为true，表示E结尾词\n",
        "    # 输入均为1*4*6，Q表示\"S I eat meat\" K表示\"我吃肉E\" V表示 \"我吃肉E\"，整体表示\"我吃肉E\"，并带上和\"我吃肉E\"、\"S I eat meat\"的关注力矩阵\n",
        "    decoder_output = self.attention(decoder_output, encoder_output, encoder_output, decoder_encoder_attn_mask)\n",
        "    return decoder_output"
      ],
      "execution_count": null,
      "outputs": []
    },
    {
      "cell_type": "code",
      "metadata": {
        "id": "Jmj9AHqLT0dP"
      },
      "source": [
        "class Transformer(nn.Module):\n",
        "  def __init__(self):\n",
        "    super(Transformer, self).__init__()\n",
        "    self.encoder = Encoder()\n",
        "    self.decoder = Decoder()\n",
        "    self.fc = nn.Linear(d_model, len(target_vocab), bias=False)\n",
        "\n",
        "  def forward(self, encoder_input, decoder_input):\n",
        "    # 入 1*4，出 1*4*6，作用是将\"我吃肉E\"embedding，并带上三词间的关注力信息\n",
        "    encoder_output = self.encoder(encoder_input)\n",
        "    # 入 1*4,1*4,1*4*6， 作用是将\"S I eat meat\"编码并带上三词间关注力，并且将\"我吃肉E + S I eat meat\"的词间关注力带给\"我吃肉E\"\n",
        "    decoder_output = self.decoder(decoder_input, encoder_input, encoder_output)\n",
        "    # 将带上各种关注力的 \"我吃肉E\" 4*6编码矩阵，变形为4*5，表示预测出4个词，每个词对应到词典中5个词的概率\n",
        "    decoder_logits = self.fc(decoder_output)\n",
        "\n",
        "    return decoder_logits.view(-1, decoder_logits.size(-1))"
      ],
      "execution_count": null,
      "outputs": []
    },
    {
      "cell_type": "code",
      "metadata": {
        "id": "WWk7fVkDWsSs",
        "colab": {
          "base_uri": "https://localhost:8080/"
        },
        "outputId": "033a0ee3-12eb-4284-b6a7-5e0310764750"
      },
      "source": [
        "model = Transformer().to(device)\n",
        "criterion = nn.CrossEntropyLoss()\n",
        "optimizer = optim.Adam(model.parameters(), lr=1e-1)\n",
        "\n",
        "for epoch in range(10):\n",
        "  output = model(encoder_input, decoder_input) # 输出4*5，代表预测出4个词，每个词对应到词典中5个词的概率\n",
        "\n",
        "  loss = criterion(output, target.view(-1)) # 和目标词 I eat meat E做差异计算\n",
        "  print('Epoch:', '%04d' % (epoch + 1), 'loss =', '{:.6f}'.format(loss))\n",
        "\n",
        "  optimizer.zero_grad()\n",
        "  loss.backward()\n",
        "  optimizer.step()"
      ],
      "execution_count": null,
      "outputs": [
        {
          "output_type": "stream",
          "name": "stdout",
          "text": [
            "Epoch: 0001 loss = 1.752738\n",
            "Epoch: 0002 loss = 1.282424\n",
            "Epoch: 0003 loss = 1.108675\n",
            "Epoch: 0004 loss = 0.842262\n",
            "Epoch: 0005 loss = 0.627801\n",
            "Epoch: 0006 loss = 0.579895\n",
            "Epoch: 0007 loss = 0.432437\n",
            "Epoch: 0008 loss = 0.237729\n",
            "Epoch: 0009 loss = 0.098178\n",
            "Epoch: 0010 loss = 0.059294\n"
          ]
        }
      ]
    },
    {
      "cell_type": "code",
      "source": [
        " # 使用模型\n",
        "target_len = len(target_vocab) # 预测目标是5个单词\n",
        "encoder_output = model.encoder(encoder_input) # 1*4*6 输入\"我吃肉E\"，进行embedding，带上自我关注力\n",
        "decoder_input = torch.zeros(1, target_len).type_as(encoder_input.data) # 1*5 全是0，表示EEEEE\n",
        "next_symbol = 4 # 表示S开始字符\n",
        "\n",
        "for i in range(target_len): # 5个单词逐个预测\n",
        "  #ipdb.set_trace()\n",
        "  decoder_input[0][i] = next_symbol # 譬如i=0第一轮，decoder输入为SEEEE，第二轮为S I EEE，第三轮S I eat EEE\n",
        "  # 1*5, 1*4, 1*4*6 => 1*5*6\n",
        "  decoder_output = model.decoder(decoder_input, encoder_input, encoder_output)\n",
        "  logits = model.fc(decoder_output).squeeze(0) # 5*5 表示预测出5个词，每个词在词典中的概率\n",
        "  prob = logits.max(dim=1, keepdim=False)[1] # 取出概率最大的五个词的下标，譬如[1, 3, 3, 3, 3] 表示 i,meat,meat,meat,meat\n",
        "  next_symbol = prob.data[i].item() #譬如i=0第一轮，data[0]=1 表示 i。并重新组装给下一轮的decoder\n",
        "\n",
        "  for k,v in target_vocab.items():\n",
        "    if v == next_symbol:\n",
        "      print('第',i,'轮:',k)\n",
        "      break\n",
        "\n",
        "  if next_symbol == 0: # 遇到结尾了，那就完成翻译\n",
        "    break"
      ],
      "metadata": {
        "colab": {
          "base_uri": "https://localhost:8080/"
        },
        "id": "LcHpCrh9NVZ5",
        "outputId": "168e4ed5-8b3e-4cd5-fb34-b171a4975869"
      },
      "execution_count": null,
      "outputs": [
        {
          "output_type": "stream",
          "name": "stdout",
          "text": [
            "第 0 轮: I\n",
            "第 1 轮: eat\n",
            "第 2 轮: meat\n",
            "第 3 轮: E\n"
          ]
        }
      ]
    }
  ]
}